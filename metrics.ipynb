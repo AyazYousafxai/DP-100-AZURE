{
 "cells": [
  {
   "cell_type": "code",
   "execution_count": 25,
   "id": "c3de1b06",
   "metadata": {},
   "outputs": [],
   "source": [
    "import numpy as np\n",
    "\n",
    "# Confusion matrix\n",
    "#          actual\n",
    "#        0    1    2\n",
    "#  0 [[ TN,  FP,  FP],\n",
    "#  1  [ FN,  TP,  FN],\n",
    "#  2  [ FP,  FN,  TP]]\n",
    "#\n",
    "# where TN, FP, FN, TP are the true negatives, false positives, false negatives, and true positives, respectively\n",
    "\n",
    "confusion_matrix = np.array([[1,4 ,3 ],\n",
    "                             [6,6 ,4 ],\n",
    "                             [0, 0, 8]])"
   ]
  },
  {
   "cell_type": "code",
   "execution_count": 26,
   "id": "01591bd0",
   "metadata": {},
   "outputs": [],
   "source": [
    "total_sample = confusion_matrix.sum(axis=1)"
   ]
  },
  {
   "cell_type": "code",
   "execution_count": 27,
   "id": "5aeb3c56",
   "metadata": {},
   "outputs": [
    {
     "data": {
      "text/plain": [
       "array([ 8, 16,  8])"
      ]
     },
     "execution_count": 27,
     "metadata": {},
     "output_type": "execute_result"
    }
   ],
   "source": [
    "total_sample"
   ]
  },
  {
   "cell_type": "code",
   "execution_count": 33,
   "id": "d841cec3",
   "metadata": {},
   "outputs": [],
   "source": [
    "correct=0\n",
    "for i in range(confusion_matrix.shape[0]):\n",
    "    correct+=confusion_matrix[i,i]"
   ]
  },
  {
   "cell_type": "code",
   "execution_count": 29,
   "id": "15e12bfd",
   "metadata": {},
   "outputs": [],
   "source": [
    "accuarcy=correct/total_sample"
   ]
  },
  {
   "cell_type": "code",
   "execution_count": 30,
   "id": "5e98184c",
   "metadata": {},
   "outputs": [
    {
     "data": {
      "text/plain": [
       "array([1.875 , 0.9375, 1.875 ])"
      ]
     },
     "execution_count": 30,
     "metadata": {},
     "output_type": "execute_result"
    }
   ],
   "source": [
    "accuarcy"
   ]
  },
  {
   "cell_type": "code",
   "execution_count": 31,
   "id": "27fac163",
   "metadata": {},
   "outputs": [],
   "source": [
    "correct = confusion_matrix.diagonal().sum()"
   ]
  },
  {
   "cell_type": "code",
   "execution_count": 34,
   "id": "d5a35876",
   "metadata": {},
   "outputs": [
    {
     "data": {
      "text/plain": [
       "15"
      ]
     },
     "execution_count": 34,
     "metadata": {},
     "output_type": "execute_result"
    }
   ],
   "source": [
    "correct"
   ]
  },
  {
   "cell_type": "code",
   "execution_count": null,
   "id": "0bb13dcf",
   "metadata": {},
   "outputs": [],
   "source": []
  }
 ],
 "metadata": {
  "kernelspec": {
   "display_name": "Python 3 (ipykernel)",
   "language": "python",
   "name": "python3"
  },
  "language_info": {
   "codemirror_mode": {
    "name": "ipython",
    "version": 3
   },
   "file_extension": ".py",
   "mimetype": "text/x-python",
   "name": "python",
   "nbconvert_exporter": "python",
   "pygments_lexer": "ipython3",
   "version": "3.9.16"
  }
 },
 "nbformat": 4,
 "nbformat_minor": 5
}
